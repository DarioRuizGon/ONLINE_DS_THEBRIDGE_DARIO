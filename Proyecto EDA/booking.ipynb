{
 "cells": [
  {
   "cell_type": "code",
   "execution_count": 6,
   "id": "18fdd775",
   "metadata": {},
   "outputs": [
    {
     "name": "stdout",
     "output_type": "stream",
     "text": [
      "{'status': False, 'message': [{'arrival_date': 'Invalid value'}, {'arrival_date': 'Invalid value'}, {'departure_date': 'Invalid value'}, {'departure_date': 'Invalid value'}]}\n"
     ]
    }
   ],
   "source": [
    "import requests\n",
    "\n",
    "url = \"https://booking-com15.p.rapidapi.com/api/v1/hotels/searchHotels\"\n",
    "\n",
    "querystring = {\"dest_id\":\"-390625\",\"search_type\":\"CITY\",\"adults\":\"1\",\"children_age\":\"0,17\",\"room_qty\":\"1\",\"page_number\":\"1\",\"units\":\"metric\",\"temperature_unit\":\"c\",\"languagecode\":\"en-us\",\"currency_code\":\"AED\",\"location\":\"US\"}\n",
    "\n",
    "headers = {\n",
    "\t\"x-rapidapi-key\": \"1aff78a8a9msh056b50d974a81e8p17a911jsnd9de20ae4863\",\n",
    "\t\"x-rapidapi-host\": \"booking-com15.p.rapidapi.com\"\n",
    "}\n",
    "\n",
    "response = requests.get(url, headers=headers, params=querystring)\n",
    "\n",
    "print(response.json())"
   ]
  },
  {
   "cell_type": "code",
   "execution_count": 2,
   "id": "ec0bb70f",
   "metadata": {},
   "outputs": [
    {
     "data": {
      "text/plain": [
       "200"
      ]
     },
     "execution_count": 2,
     "metadata": {},
     "output_type": "execute_result"
    }
   ],
   "source": [
    "response.status_code"
   ]
  },
  {
   "cell_type": "code",
   "execution_count": 9,
   "id": "ac12004c",
   "metadata": {},
   "outputs": [
    {
     "data": {
      "text/plain": [
       "{'status': True,\n",
       " 'message': 'Success',\n",
       " 'timestamp': 1745358876040,\n",
       " 'data': [{'dest_id': '735',\n",
       "   'search_type': 'region',\n",
       "   'region': 'Galicia',\n",
       "   'dest_type': 'region',\n",
       "   'city_name': '',\n",
       "   'longitude': -7.9102826,\n",
       "   'label': 'Galicia, Spain',\n",
       "   'lc': 'en',\n",
       "   'name': 'Galicia',\n",
       "   'hotels': 15586,\n",
       "   'cc1': 'es',\n",
       "   'roundtrip': 'GhAwN2U2OWEwZGRlOTgwMDA0IAAoATICZW46B2dhbGljaWFAAEoAUAA=',\n",
       "   'latitude': 42.75662,\n",
       "   'type': 're',\n",
       "   'city_ufi': None,\n",
       "   'image_url': 'https://cf.bstatic.com/xdata/images/region/150x150/74835.jpg?k=9b5ffd286aba0df6aacaf0a98cc16b2a38e21e7f928f0dc2144f462041033a2a&o=',\n",
       "   'nr_hotels': 15586,\n",
       "   'country': 'Spain'},\n",
       "  {'dest_id': '1240170',\n",
       "   'search_type': 'hotel',\n",
       "   'roundtrip': 'GhAwN2U2OWEwZGRlOTgwMDA0IAEoATICZW46B2dhbGljaWFAAEoAUAA=',\n",
       "   'cc1': 'es',\n",
       "   'hotels': 1,\n",
       "   'country': 'Spain',\n",
       "   'nr_hotels': 1,\n",
       "   'image_url': 'https://cf.bstatic.com/xdata/images/hotel/150x150/373789892.jpg?k=6fc1bb8e2798fd87200e1f060d3726fbae941881c480b32c925c09c12056b024&o=',\n",
       "   'latitude': 42.583363,\n",
       "   'city_ufi': 900039297,\n",
       "   'type': 'ho',\n",
       "   'dest_type': 'hotel',\n",
       "   'city_name': 'Forcarei',\n",
       "   'region': 'Galicia',\n",
       "   'lc': 'en',\n",
       "   'name': 'Galicia',\n",
       "   'label': 'Galicia, Forcarei, Galicia, Spain',\n",
       "   'longitude': -8.343986},\n",
       "  {'dest_id': '-2426096',\n",
       "   'search_type': 'city',\n",
       "   'roundtrip': 'GhAwN2U2OWEwZGRlOTgwMDA0IAIoATICZW46B2dhbGljaWFAAEoAUAA=',\n",
       "   'cc1': 'ph',\n",
       "   'hotels': 3,\n",
       "   'country': 'Philippines',\n",
       "   'nr_hotels': 3,\n",
       "   'latitude': 14.0906,\n",
       "   'type': 'ci',\n",
       "   'city_ufi': None,\n",
       "   'dest_type': 'city',\n",
       "   'city_name': 'Galicias',\n",
       "   'region': 'Luzon',\n",
       "   'lc': 'en',\n",
       "   'name': 'Galicias',\n",
       "   'label': 'Galicias, Luzon, Philippines',\n",
       "   'longitude': 120.909},\n",
       "  {'dest_id': '4689616',\n",
       "   'search_type': 'hotel',\n",
       "   'image_url': 'https://cf.bstatic.com/xdata/images/hotel/150x150/313888803.jpg?k=bcbcfe9469b57fea7f08fd0424e061974e5ac64db52df648a3c556029d106307&o=',\n",
       "   'latitude': 41.510277,\n",
       "   'type': 'ho',\n",
       "   'city_ufi': -409113,\n",
       "   'country': 'Spain',\n",
       "   'nr_hotels': 1,\n",
       "   'hotels': 1,\n",
       "   'cc1': 'es',\n",
       "   'roundtrip': 'GhAwN2U2OWEwZGRlOTgwMDA0IAMoATICZW46B2dhbGljaWFAAEoAUAA=',\n",
       "   'longitude': -5.7517066,\n",
       "   'lc': 'en',\n",
       "   'name': 'Galicia47',\n",
       "   'label': 'Galicia47, Zamora, Castile and Leon, Spain',\n",
       "   'region': 'Castile and Leon',\n",
       "   'city_name': 'Zamora',\n",
       "   'dest_type': 'hotel'},\n",
       "  {'dest_id': '495410',\n",
       "   'search_type': 'hotel',\n",
       "   'label': 'Hotel Galícia, Rio de Janeiro, Rio de Janeiro State, Brazil',\n",
       "   'name': 'Hotel Galícia',\n",
       "   'lc': 'en',\n",
       "   'longitude': -43.187218,\n",
       "   'city_name': 'Rio de Janeiro',\n",
       "   'dest_type': 'hotel',\n",
       "   'region': 'Rio de Janeiro State',\n",
       "   'nr_hotels': 1,\n",
       "   'country': 'Brazil',\n",
       "   'type': 'ho',\n",
       "   'city_ufi': -666610,\n",
       "   'latitude': -22.910685,\n",
       "   'image_url': 'https://cf.bstatic.com/xdata/images/hotel/150x150/50851671.jpg?k=38b25aef7fc85825c4fc5553d611c23a7c269d9a68611065591970253da52822&o=',\n",
       "   'cc1': 'br',\n",
       "   'roundtrip': 'GhAwN2U2OWEwZGRlOTgwMDA0IAQoATICZW46B2dhbGljaWFAAEoAUAA=',\n",
       "   'hotels': 1}]}"
      ]
     },
     "execution_count": 9,
     "metadata": {},
     "output_type": "execute_result"
    }
   ],
   "source": [
    "url = \"https://booking-com15.p.rapidapi.com/api/v1/hotels/searchDestination\"\n",
    "\n",
    "querystring = {\"query\":\"galicia\"}\n",
    "\n",
    "headers = {\n",
    "\t\"x-rapidapi-key\": \"1aff78a8a9msh056b50d974a81e8p17a911jsnd9de20ae4863\",\n",
    "\t\"x-rapidapi-host\": \"booking-com15.p.rapidapi.com\"\n",
    "}\n",
    "\n",
    "response = requests.get(url, headers=headers, params=querystring)\n",
    "\n",
    "response.json()"
   ]
  },
  {
   "cell_type": "code",
   "execution_count": 7,
   "id": "4b2215e1",
   "metadata": {},
   "outputs": [
    {
     "data": {
      "text/plain": [
       "{'status': False,\n",
       " 'message': [{'arrival_date': 'Invalid value'},\n",
       "  {'arrival_date': 'Invalid value'},\n",
       "  {'departure_date': 'Invalid value'},\n",
       "  {'departure_date': 'Invalid value'}]}"
      ]
     },
     "execution_count": 7,
     "metadata": {},
     "output_type": "execute_result"
    }
   ],
   "source": [
    "response.json()"
   ]
  }
 ],
 "metadata": {
  "kernelspec": {
   "display_name": "Python 3",
   "language": "python",
   "name": "python3"
  },
  "language_info": {
   "codemirror_mode": {
    "name": "ipython",
    "version": 3
   },
   "file_extension": ".py",
   "mimetype": "text/x-python",
   "name": "python",
   "nbconvert_exporter": "python",
   "pygments_lexer": "ipython3",
   "version": "3.13.2"
  }
 },
 "nbformat": 4,
 "nbformat_minor": 5
}
